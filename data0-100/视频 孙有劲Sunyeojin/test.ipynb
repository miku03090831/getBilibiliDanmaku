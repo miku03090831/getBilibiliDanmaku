{
 "metadata": {
  "language_info": {
   "codemirror_mode": {
    "name": "ipython",
    "version": 3
   },
   "file_extension": ".py",
   "mimetype": "text/x-python",
   "name": "python",
   "nbconvert_exporter": "python",
   "pygments_lexer": "ipython3",
   "version": "3.8.8"
  },
  "orig_nbformat": 4,
  "kernelspec": {
   "name": "python3",
   "display_name": "Python 3.8.8 64-bit ('base': conda)"
  },
  "interpreter": {
   "hash": "53df1334709a1b2f300aadd9cfa9fa510957a85c88736ecd472852effd04ffab"
  }
 },
 "nbformat": 4,
 "nbformat_minor": 2,
 "cells": [
  {
   "cell_type": "code",
   "execution_count": 8,
   "metadata": {},
   "outputs": [],
   "source": [
    "import numpy as np\n",
    "import pandas as pd\n",
    "import jieba\n",
    "import jieba.analyse\n",
    "import codecs"
   ]
  },
  {
   "cell_type": "code",
   "execution_count": 6,
   "metadata": {},
   "outputs": [
    {
     "output_type": "execute_result",
     "data": {
      "text/plain": [
       "          uid               content\n",
       "0   205420067                   我和你\n",
       "1      546114            首都警备司令(无端)\n",
       "2   394186398                 我和你两口\n",
       "3      191614                  口..口\n",
       "4   255645603             弹幕和小将贴贴大草\n",
       "5    33618856                有我老婆公主\n",
       "6    11186884                    dd\n",
       "7   400151955                     对\n",
       "8    39565887                我是那个dd\n",
       "9   100839023                  是左持！\n",
       "10    1592759               我家有yeo酱\n",
       "11  175520418              着握笔姿势。。。\n",
       "12    2095252                  一个DD\n",
       "13    5706801               このjijiは\n",
       "14     770594              重型单位占2人口\n",
       "15     791306                两口，我和你\n",
       "16    6683157                两口人（即答\n",
       "17    5598346               两口人，我和你\n",
       "18    4284598                两口，我和你\n",
       "19   34507923                     草\n",
       "20   28174990                    两口\n",
       "21     568473          韩国人用日文课本学中文？\n",
       "22   20634806         两个，我跟sunyujin\n",
       "23   22597111                你家有几口棱\n",
       "24    2653686               就我一个。。。\n",
       "25     326919  我们家呀，七口，俗话说是宁添一斗不添一口"
      ],
      "text/html": "<div>\n<style scoped>\n    .dataframe tbody tr th:only-of-type {\n        vertical-align: middle;\n    }\n\n    .dataframe tbody tr th {\n        vertical-align: top;\n    }\n\n    .dataframe thead th {\n        text-align: right;\n    }\n</style>\n<table border=\"1\" class=\"dataframe\">\n  <thead>\n    <tr style=\"text-align: right;\">\n      <th></th>\n      <th>uid</th>\n      <th>content</th>\n    </tr>\n  </thead>\n  <tbody>\n    <tr>\n      <th>0</th>\n      <td>205420067</td>\n      <td>我和你</td>\n    </tr>\n    <tr>\n      <th>1</th>\n      <td>546114</td>\n      <td>首都警备司令(无端)</td>\n    </tr>\n    <tr>\n      <th>2</th>\n      <td>394186398</td>\n      <td>我和你两口</td>\n    </tr>\n    <tr>\n      <th>3</th>\n      <td>191614</td>\n      <td>口..口</td>\n    </tr>\n    <tr>\n      <th>4</th>\n      <td>255645603</td>\n      <td>弹幕和小将贴贴大草</td>\n    </tr>\n    <tr>\n      <th>5</th>\n      <td>33618856</td>\n      <td>有我老婆公主</td>\n    </tr>\n    <tr>\n      <th>6</th>\n      <td>11186884</td>\n      <td>dd</td>\n    </tr>\n    <tr>\n      <th>7</th>\n      <td>400151955</td>\n      <td>对</td>\n    </tr>\n    <tr>\n      <th>8</th>\n      <td>39565887</td>\n      <td>我是那个dd</td>\n    </tr>\n    <tr>\n      <th>9</th>\n      <td>100839023</td>\n      <td>是左持！</td>\n    </tr>\n    <tr>\n      <th>10</th>\n      <td>1592759</td>\n      <td>我家有yeo酱</td>\n    </tr>\n    <tr>\n      <th>11</th>\n      <td>175520418</td>\n      <td>着握笔姿势。。。</td>\n    </tr>\n    <tr>\n      <th>12</th>\n      <td>2095252</td>\n      <td>一个DD</td>\n    </tr>\n    <tr>\n      <th>13</th>\n      <td>5706801</td>\n      <td>このjijiは</td>\n    </tr>\n    <tr>\n      <th>14</th>\n      <td>770594</td>\n      <td>重型单位占2人口</td>\n    </tr>\n    <tr>\n      <th>15</th>\n      <td>791306</td>\n      <td>两口，我和你</td>\n    </tr>\n    <tr>\n      <th>16</th>\n      <td>6683157</td>\n      <td>两口人（即答</td>\n    </tr>\n    <tr>\n      <th>17</th>\n      <td>5598346</td>\n      <td>两口人，我和你</td>\n    </tr>\n    <tr>\n      <th>18</th>\n      <td>4284598</td>\n      <td>两口，我和你</td>\n    </tr>\n    <tr>\n      <th>19</th>\n      <td>34507923</td>\n      <td>草</td>\n    </tr>\n    <tr>\n      <th>20</th>\n      <td>28174990</td>\n      <td>两口</td>\n    </tr>\n    <tr>\n      <th>21</th>\n      <td>568473</td>\n      <td>韩国人用日文课本学中文？</td>\n    </tr>\n    <tr>\n      <th>22</th>\n      <td>20634806</td>\n      <td>两个，我跟sunyujin</td>\n    </tr>\n    <tr>\n      <th>23</th>\n      <td>22597111</td>\n      <td>你家有几口棱</td>\n    </tr>\n    <tr>\n      <th>24</th>\n      <td>2653686</td>\n      <td>就我一个。。。</td>\n    </tr>\n    <tr>\n      <th>25</th>\n      <td>326919</td>\n      <td>我们家呀，七口，俗话说是宁添一斗不添一口</td>\n    </tr>\n  </tbody>\n</table>\n</div>"
     },
     "metadata": {},
     "execution_count": 6
    }
   ],
   "source": [
    "df = pd.read_json('BV1qD4y1X7Uz && 虚拟人口普查专员进社区.json')\n",
    "df"
   ]
  },
  {
   "cell_type": "code",
   "execution_count": 5,
   "metadata": {},
   "outputs": [
    {
     "output_type": "execute_result",
     "data": {
      "text/plain": [
       "          uid               content\n",
       "0   205420067                   我和你\n",
       "1      546114            首都警备司令(无端)\n",
       "2   394186398                 我和你两口\n",
       "3      191614                  口..口\n",
       "4   255645603             弹幕和小将贴贴大草\n",
       "5    33618856                有我老婆公主\n",
       "6    11186884                    dd\n",
       "7   400151955                     对\n",
       "8    39565887                我是那个dd\n",
       "9   100839023                  是左持！\n",
       "10    1592759               我家有yeo酱\n",
       "11  175520418              着握笔姿势。。。\n",
       "12    2095252                  一个DD\n",
       "13    5706801               このjijiは\n",
       "14     770594              重型单位占2人口\n",
       "15     791306                两口，我和你\n",
       "16    6683157                两口人（即答\n",
       "17    5598346               两口人，我和你\n",
       "18    4284598                两口，我和你\n",
       "19   34507923                     草\n",
       "20   28174990                    两口\n",
       "21     568473          韩国人用日文课本学中文？\n",
       "22   20634806         两个，我跟sunyujin\n",
       "23   22597111                你家有几口棱\n",
       "24    2653686               就我一个。。。\n",
       "25     326919  我们家呀，七口，俗话说是宁添一斗不添一口"
      ],
      "text/html": "<div>\n<style scoped>\n    .dataframe tbody tr th:only-of-type {\n        vertical-align: middle;\n    }\n\n    .dataframe tbody tr th {\n        vertical-align: top;\n    }\n\n    .dataframe thead th {\n        text-align: right;\n    }\n</style>\n<table border=\"1\" class=\"dataframe\">\n  <thead>\n    <tr style=\"text-align: right;\">\n      <th></th>\n      <th>uid</th>\n      <th>content</th>\n    </tr>\n  </thead>\n  <tbody>\n    <tr>\n      <th>0</th>\n      <td>205420067</td>\n      <td>我和你</td>\n    </tr>\n    <tr>\n      <th>1</th>\n      <td>546114</td>\n      <td>首都警备司令(无端)</td>\n    </tr>\n    <tr>\n      <th>2</th>\n      <td>394186398</td>\n      <td>我和你两口</td>\n    </tr>\n    <tr>\n      <th>3</th>\n      <td>191614</td>\n      <td>口..口</td>\n    </tr>\n    <tr>\n      <th>4</th>\n      <td>255645603</td>\n      <td>弹幕和小将贴贴大草</td>\n    </tr>\n    <tr>\n      <th>5</th>\n      <td>33618856</td>\n      <td>有我老婆公主</td>\n    </tr>\n    <tr>\n      <th>6</th>\n      <td>11186884</td>\n      <td>dd</td>\n    </tr>\n    <tr>\n      <th>7</th>\n      <td>400151955</td>\n      <td>对</td>\n    </tr>\n    <tr>\n      <th>8</th>\n      <td>39565887</td>\n      <td>我是那个dd</td>\n    </tr>\n    <tr>\n      <th>9</th>\n      <td>100839023</td>\n      <td>是左持！</td>\n    </tr>\n    <tr>\n      <th>10</th>\n      <td>1592759</td>\n      <td>我家有yeo酱</td>\n    </tr>\n    <tr>\n      <th>11</th>\n      <td>175520418</td>\n      <td>着握笔姿势。。。</td>\n    </tr>\n    <tr>\n      <th>12</th>\n      <td>2095252</td>\n      <td>一个DD</td>\n    </tr>\n    <tr>\n      <th>13</th>\n      <td>5706801</td>\n      <td>このjijiは</td>\n    </tr>\n    <tr>\n      <th>14</th>\n      <td>770594</td>\n      <td>重型单位占2人口</td>\n    </tr>\n    <tr>\n      <th>15</th>\n      <td>791306</td>\n      <td>两口，我和你</td>\n    </tr>\n    <tr>\n      <th>16</th>\n      <td>6683157</td>\n      <td>两口人（即答</td>\n    </tr>\n    <tr>\n      <th>17</th>\n      <td>5598346</td>\n      <td>两口人，我和你</td>\n    </tr>\n    <tr>\n      <th>18</th>\n      <td>4284598</td>\n      <td>两口，我和你</td>\n    </tr>\n    <tr>\n      <th>19</th>\n      <td>34507923</td>\n      <td>草</td>\n    </tr>\n    <tr>\n      <th>20</th>\n      <td>28174990</td>\n      <td>两口</td>\n    </tr>\n    <tr>\n      <th>21</th>\n      <td>568473</td>\n      <td>韩国人用日文课本学中文？</td>\n    </tr>\n    <tr>\n      <th>22</th>\n      <td>20634806</td>\n      <td>两个，我跟sunyujin</td>\n    </tr>\n    <tr>\n      <th>23</th>\n      <td>22597111</td>\n      <td>你家有几口棱</td>\n    </tr>\n    <tr>\n      <th>24</th>\n      <td>2653686</td>\n      <td>就我一个。。。</td>\n    </tr>\n    <tr>\n      <th>25</th>\n      <td>326919</td>\n      <td>我们家呀，七口，俗话说是宁添一斗不添一口</td>\n    </tr>\n  </tbody>\n</table>\n</div>"
     },
     "metadata": {},
     "execution_count": 5
    }
   ],
   "source": [
    "df"
   ]
  },
  {
   "cell_type": "code",
   "execution_count": 10,
   "metadata": {},
   "outputs": [],
   "source": [
    "stopwords = [line.strip() for line in codecs.open('stopped.txt', 'r', 'utf-8').readlines()] "
   ]
  },
  {
   "cell_type": "code",
   "execution_count": 13,
   "metadata": {},
   "outputs": [
    {
     "output_type": "stream",
     "name": "stderr",
     "text": [
      "Building prefix dict from the default dictionary ...\n",
      "Dumping model to file cache /var/folders/s4/0w9vyncx71s715nnn1rynrwc0000gn/T/jieba.cache\n",
      "Loading model cost 0.675 seconds.\n",
      "Prefix dict has been built successfully.\n"
     ]
    }
   ],
   "source": [
    "segments = []\n",
    "for index, row in df.iterrows():\n",
    "    content = row[1]\n",
    "    #TextRank 关键词抽取，只获取固定词性\n",
    "    words = jieba.analyse.textrank(content, topK=50,withWeight=False,allowPOS=('ns', 'n', 'vn', 'v'))\n",
    "    splitedStr = ''\n",
    "    for word in words:\n",
    "        # 记录全局分词\n",
    "        segments.append({'word':word, 'count':1})\n",
    "        splitedStr += word + ' '\n",
    "dfSg = pd.DataFrame(segments)\n"
   ]
  },
  {
   "cell_type": "code",
   "execution_count": 14,
   "metadata": {},
   "outputs": [
    {
     "output_type": "execute_result",
     "data": {
      "text/plain": [
       "    word  count\n",
       "0   警备司令      1\n",
       "1     无端      1\n",
       "2     贴贴      1\n",
       "3     弹幕      1\n",
       "4     小将      1\n",
       "5     大草      1\n",
       "6     老婆      1\n",
       "7     公主      1\n",
       "8     握笔      1\n",
       "9     姿势      1\n",
       "10    单位      1\n",
       "11    人口      1\n",
       "12    韩国      1\n",
       "13    本学      1\n",
       "14   日文课      1\n",
       "15    人用      1"
      ],
      "text/html": "<div>\n<style scoped>\n    .dataframe tbody tr th:only-of-type {\n        vertical-align: middle;\n    }\n\n    .dataframe tbody tr th {\n        vertical-align: top;\n    }\n\n    .dataframe thead th {\n        text-align: right;\n    }\n</style>\n<table border=\"1\" class=\"dataframe\">\n  <thead>\n    <tr style=\"text-align: right;\">\n      <th></th>\n      <th>word</th>\n      <th>count</th>\n    </tr>\n  </thead>\n  <tbody>\n    <tr>\n      <th>0</th>\n      <td>警备司令</td>\n      <td>1</td>\n    </tr>\n    <tr>\n      <th>1</th>\n      <td>无端</td>\n      <td>1</td>\n    </tr>\n    <tr>\n      <th>2</th>\n      <td>贴贴</td>\n      <td>1</td>\n    </tr>\n    <tr>\n      <th>3</th>\n      <td>弹幕</td>\n      <td>1</td>\n    </tr>\n    <tr>\n      <th>4</th>\n      <td>小将</td>\n      <td>1</td>\n    </tr>\n    <tr>\n      <th>5</th>\n      <td>大草</td>\n      <td>1</td>\n    </tr>\n    <tr>\n      <th>6</th>\n      <td>老婆</td>\n      <td>1</td>\n    </tr>\n    <tr>\n      <th>7</th>\n      <td>公主</td>\n      <td>1</td>\n    </tr>\n    <tr>\n      <th>8</th>\n      <td>握笔</td>\n      <td>1</td>\n    </tr>\n    <tr>\n      <th>9</th>\n      <td>姿势</td>\n      <td>1</td>\n    </tr>\n    <tr>\n      <th>10</th>\n      <td>单位</td>\n      <td>1</td>\n    </tr>\n    <tr>\n      <th>11</th>\n      <td>人口</td>\n      <td>1</td>\n    </tr>\n    <tr>\n      <th>12</th>\n      <td>韩国</td>\n      <td>1</td>\n    </tr>\n    <tr>\n      <th>13</th>\n      <td>本学</td>\n      <td>1</td>\n    </tr>\n    <tr>\n      <th>14</th>\n      <td>日文课</td>\n      <td>1</td>\n    </tr>\n    <tr>\n      <th>15</th>\n      <td>人用</td>\n      <td>1</td>\n    </tr>\n  </tbody>\n</table>\n</div>"
     },
     "metadata": {},
     "execution_count": 14
    }
   ],
   "source": [
    "dfSg"
   ]
  },
  {
   "cell_type": "code",
   "execution_count": 18,
   "metadata": {},
   "outputs": [],
   "source": [
    "segments = pd.DataFrame({'word':[],'count':[]})"
   ]
  },
  {
   "cell_type": "code",
   "execution_count": 19,
   "metadata": {},
   "outputs": [
    {
     "output_type": "execute_result",
     "data": {
      "text/plain": [
       "Empty DataFrame\n",
       "Columns: [word, count]\n",
       "Index: []"
      ],
      "text/html": "<div>\n<style scoped>\n    .dataframe tbody tr th:only-of-type {\n        vertical-align: middle;\n    }\n\n    .dataframe tbody tr th {\n        vertical-align: top;\n    }\n\n    .dataframe thead th {\n        text-align: right;\n    }\n</style>\n<table border=\"1\" class=\"dataframe\">\n  <thead>\n    <tr style=\"text-align: right;\">\n      <th></th>\n      <th>word</th>\n      <th>count</th>\n    </tr>\n  </thead>\n  <tbody>\n  </tbody>\n</table>\n</div>"
     },
     "metadata": {},
     "execution_count": 19
    }
   ],
   "source": [
    "segments"
   ]
  },
  {
   "cell_type": "code",
   "execution_count": null,
   "metadata": {},
   "outputs": [],
   "source": []
  }
 ]
}